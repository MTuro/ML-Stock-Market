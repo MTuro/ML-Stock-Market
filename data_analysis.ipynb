{
 "cells": [
  {
   "cell_type": "code",
   "execution_count": 39,
   "id": "746dcc6b",
   "metadata": {},
   "outputs": [],
   "source": [
    "#imports\n",
    "import pandas as pd\n",
    "import matplotlib.pyplot as plt\n",
    "import seaborn as sns"
   ]
  },
  {
   "cell_type": "code",
   "execution_count": 40,
   "id": "07ce2cf4",
   "metadata": {},
   "outputs": [],
   "source": [
    "# Define the actual column names\n",
    "columns = [\"Date\", \"Open\", \"High\", \"Low\", \"Close\", \"Adj Close\", \"Volume\"]"
   ]
  },
  {
   "cell_type": "code",
   "execution_count": null,
   "id": "0cb5d9d6",
   "metadata": {},
   "outputs": [
    {
     "name": "stderr",
     "output_type": "stream",
     "text": [
      "/tmp/ipykernel_1983/2593694671.py:2: UserWarning: Could not infer format, so each element will be parsed individually, falling back to `dateutil`. To ensure parsing is consistent and as-expected, please specify a format.\n",
      "  df = pd.read_csv(\n"
     ]
    },
    {
     "data": {
      "text/html": [
       "<div>\n",
       "<style scoped>\n",
       "    .dataframe tbody tr th:only-of-type {\n",
       "        vertical-align: middle;\n",
       "    }\n",
       "\n",
       "    .dataframe tbody tr th {\n",
       "        vertical-align: top;\n",
       "    }\n",
       "\n",
       "    .dataframe thead th {\n",
       "        text-align: right;\n",
       "    }\n",
       "</style>\n",
       "<table border=\"1\" class=\"dataframe\">\n",
       "  <thead>\n",
       "    <tr style=\"text-align: right;\">\n",
       "      <th></th>\n",
       "      <th>Open</th>\n",
       "      <th>High</th>\n",
       "      <th>Low</th>\n",
       "      <th>Close</th>\n",
       "      <th>Adj Close</th>\n",
       "      <th>Volume</th>\n",
       "    </tr>\n",
       "    <tr>\n",
       "      <th>Date</th>\n",
       "      <th></th>\n",
       "      <th></th>\n",
       "      <th></th>\n",
       "      <th></th>\n",
       "      <th></th>\n",
       "      <th></th>\n",
       "    </tr>\n",
       "  </thead>\n",
       "  <tbody>\n",
       "    <tr>\n",
       "      <th>Date</th>\n",
       "      <td>NaN</td>\n",
       "      <td>NaN</td>\n",
       "      <td>NaN</td>\n",
       "      <td>NaN</td>\n",
       "      <td>NaN</td>\n",
       "      <td>NaN</td>\n",
       "    </tr>\n",
       "    <tr>\n",
       "      <th>2015-01-02</th>\n",
       "      <td>2058.199951</td>\n",
       "      <td>2072.360107</td>\n",
       "      <td>2046.040039</td>\n",
       "      <td>2058.899902</td>\n",
       "      <td>2.708700e+09</td>\n",
       "      <td>NaN</td>\n",
       "    </tr>\n",
       "    <tr>\n",
       "      <th>2015-01-05</th>\n",
       "      <td>2020.579956</td>\n",
       "      <td>2054.439941</td>\n",
       "      <td>2017.339966</td>\n",
       "      <td>2054.439941</td>\n",
       "      <td>3.799120e+09</td>\n",
       "      <td>NaN</td>\n",
       "    </tr>\n",
       "    <tr>\n",
       "      <th>2015-01-06</th>\n",
       "      <td>2002.609985</td>\n",
       "      <td>2030.250000</td>\n",
       "      <td>1992.439941</td>\n",
       "      <td>2022.150024</td>\n",
       "      <td>4.460110e+09</td>\n",
       "      <td>NaN</td>\n",
       "    </tr>\n",
       "    <tr>\n",
       "      <th>2015-01-07</th>\n",
       "      <td>2025.900024</td>\n",
       "      <td>2029.609985</td>\n",
       "      <td>2005.550049</td>\n",
       "      <td>2005.550049</td>\n",
       "      <td>3.805480e+09</td>\n",
       "      <td>NaN</td>\n",
       "    </tr>\n",
       "  </tbody>\n",
       "</table>\n",
       "</div>"
      ],
      "text/plain": [
       "                   Open         High          Low        Close     Adj Close  \\\n",
       "Date                                                                           \n",
       "Date                NaN          NaN          NaN          NaN           NaN   \n",
       "2015-01-02  2058.199951  2072.360107  2046.040039  2058.899902  2.708700e+09   \n",
       "2015-01-05  2020.579956  2054.439941  2017.339966  2054.439941  3.799120e+09   \n",
       "2015-01-06  2002.609985  2030.250000  1992.439941  2022.150024  4.460110e+09   \n",
       "2015-01-07  2025.900024  2029.609985  2005.550049  2005.550049  3.805480e+09   \n",
       "\n",
       "            Volume  \n",
       "Date                \n",
       "Date           NaN  \n",
       "2015-01-02     NaN  \n",
       "2015-01-05     NaN  \n",
       "2015-01-06     NaN  \n",
       "2015-01-07     NaN  "
      ]
     },
     "execution_count": 45,
     "metadata": {},
     "output_type": "execute_result"
    }
   ],
   "source": [
    "# Read CSV: skip header garbage, use header row, and parse date\n",
    "df = pd.read_csv(\n",
    "    \"sp500.csv\",\n",
    "    skiprows=2,         # skip metadata lines\n",
    "    parse_dates=[\"Date\"]\n",
    ")\n",
    "\n",
    "# Set 'Date' as index\n",
    "df.set_index(\"Date\", inplace=True)\n",
    "\n",
    "# Drop potential duplicate columns if they appear\n",
    "df = df.loc[:, ~df.columns.duplicated()]\n",
    "df.head()\n"
   ]
  },
  {
   "cell_type": "code",
   "execution_count": 42,
   "id": "8f3bd21e",
   "metadata": {},
   "outputs": [
    {
     "name": "stdout",
     "output_type": "stream",
     "text": [
      "Missing values:\n",
      " Open            1\n",
      "High            1\n",
      "Low             1\n",
      "Close           1\n",
      "Adj Close       1\n",
      "Volume       2516\n",
      "dtype: int64\n",
      "\n",
      "Percentage of missing values:\n",
      " Open           0.039746\n",
      "High           0.039746\n",
      "Low            0.039746\n",
      "Close          0.039746\n",
      "Adj Close      0.039746\n",
      "Volume       100.000000\n",
      "dtype: float64\n"
     ]
    }
   ],
   "source": [
    "# Check for missing values\n",
    "missing = df.isnull().sum()\n",
    "print(\"Missing values:\\n\", missing)\n",
    "\n",
    "# Check the percentage of missing values\n",
    "percent_missing = (missing / len(df)) * 100\n",
    "print(\"\\nPercentage of missing values:\\n\", percent_missing)\n"
   ]
  }
 ],
 "metadata": {
  "kernelspec": {
   "display_name": "env (3.12.3)",
   "language": "python",
   "name": "python3"
  },
  "language_info": {
   "codemirror_mode": {
    "name": "ipython",
    "version": 3
   },
   "file_extension": ".py",
   "mimetype": "text/x-python",
   "name": "python",
   "nbconvert_exporter": "python",
   "pygments_lexer": "ipython3",
   "version": "3.12.3"
  }
 },
 "nbformat": 4,
 "nbformat_minor": 5
}
