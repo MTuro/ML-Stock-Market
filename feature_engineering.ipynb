{
 "cells": [
  {
   "cell_type": "markdown",
   "id": "54a1629d",
   "metadata": {},
   "source": [
    "# Feature Engineering\n",
    "Creation of new variables to improve S&P 500 forecasting models."
   ]
  },
  {
   "cell_type": "code",
   "execution_count": 1,
   "id": "8bf5993e",
   "metadata": {},
   "outputs": [],
   "source": [
    "# Imports\n",
    "import pandas as pd\n",
    "import numpy as np"
   ]
  },
  {
   "cell_type": "code",
   "execution_count": 2,
   "id": "20921fe8",
   "metadata": {},
   "outputs": [],
   "source": [
    "# Load data\n",
    "columns = [\"Date\", \"Open\", \"High\", \"Low\", \"Close\", \"Adj Close\", \"Volume\"]\n",
    "df = pd.read_csv(\"sp500.csv\", skiprows=3, names=columns, header=None, parse_dates=[\"Date\"])\n",
    "df = df.loc[:, ~df.columns.duplicated()]\n",
    "df = df.drop(0)  # Remove extra header row\n",
    "df = df.set_index(\"Date\")\n",
    "df = df.apply(pd.to_numeric, errors='coerce')"
   ]
  },
  {
   "cell_type": "code",
   "execution_count": 3,
   "id": "00d762fd",
   "metadata": {},
   "outputs": [],
   "source": [
    "# Feature: Daily return\n",
    "df['return'] = df['Close'].pct_change()"
   ]
  },
  {
   "cell_type": "code",
   "execution_count": 4,
   "id": "3bc8bc4e",
   "metadata": {},
   "outputs": [],
   "source": [
    "# Feature: 7-day and 21-day moving averages\n",
    "df['ma7'] = df['Close'].rolling(window=7).mean()\n",
    "df['ma21'] = df['Close'].rolling(window=21).mean()"
   ]
  },
  {
   "cell_type": "code",
   "execution_count": 5,
   "id": "8e021e0b",
   "metadata": {},
   "outputs": [],
   "source": [
    "# Feature: 7-day volatility (standard deviation)\n",
    "df['volatility_7'] = df['return'].rolling(window=7).std()"
   ]
  },
  {
   "cell_type": "code",
   "execution_count": 6,
   "id": "e01cd873",
   "metadata": {},
   "outputs": [],
   "source": [
    "# Feature: Future price (target for regression)\n",
    "df['target'] = df['Close'].shift(-1)"
   ]
  },
  {
   "cell_type": "code",
   "execution_count": 7,
   "id": "fa64810a",
   "metadata": {},
   "outputs": [],
   "source": [
    "# Feature: Upward signal (target for classification)\n",
    "df['target_up'] = (df['Close'].shift(-1) > df['Close']).astype(int)"
   ]
  },
  {
   "cell_type": "code",
   "execution_count": 8,
   "id": "4703b60a",
   "metadata": {},
   "outputs": [
    {
     "data": {
      "text/html": [
       "<div>\n",
       "<style scoped>\n",
       "    .dataframe tbody tr th:only-of-type {\n",
       "        vertical-align: middle;\n",
       "    }\n",
       "\n",
       "    .dataframe tbody tr th {\n",
       "        vertical-align: top;\n",
       "    }\n",
       "\n",
       "    .dataframe thead th {\n",
       "        text-align: right;\n",
       "    }\n",
       "</style>\n",
       "<table border=\"1\" class=\"dataframe\">\n",
       "  <thead>\n",
       "    <tr style=\"text-align: right;\">\n",
       "      <th></th>\n",
       "      <th>Open</th>\n",
       "      <th>High</th>\n",
       "      <th>Low</th>\n",
       "      <th>Close</th>\n",
       "      <th>Adj Close</th>\n",
       "      <th>Volume</th>\n",
       "      <th>return</th>\n",
       "      <th>ma7</th>\n",
       "      <th>ma21</th>\n",
       "      <th>volatility_7</th>\n",
       "      <th>target</th>\n",
       "      <th>target_up</th>\n",
       "    </tr>\n",
       "    <tr>\n",
       "      <th>Date</th>\n",
       "      <th></th>\n",
       "      <th></th>\n",
       "      <th></th>\n",
       "      <th></th>\n",
       "      <th></th>\n",
       "      <th></th>\n",
       "      <th></th>\n",
       "      <th></th>\n",
       "      <th></th>\n",
       "      <th></th>\n",
       "      <th></th>\n",
       "      <th></th>\n",
       "    </tr>\n",
       "  </thead>\n",
       "  <tbody>\n",
       "    <tr>\n",
       "      <th>2024-12-23</th>\n",
       "      <td>5974.069824</td>\n",
       "      <td>5978.250000</td>\n",
       "      <td>5902.569824</td>\n",
       "      <td>5940.250000</td>\n",
       "      <td>3593280000</td>\n",
       "      <td>NaN</td>\n",
       "      <td>0.016818</td>\n",
       "      <td>5989.588518</td>\n",
       "      <td>6022.847540</td>\n",
       "      <td>0.011980</td>\n",
       "      <td>5984.629883</td>\n",
       "      <td>1</td>\n",
       "    </tr>\n",
       "    <tr>\n",
       "      <th>2024-12-24</th>\n",
       "      <td>6040.040039</td>\n",
       "      <td>6040.100098</td>\n",
       "      <td>5981.439941</td>\n",
       "      <td>5984.629883</td>\n",
       "      <td>1757720000</td>\n",
       "      <td>NaN</td>\n",
       "      <td>0.007471</td>\n",
       "      <td>5977.654227</td>\n",
       "      <td>6024.765160</td>\n",
       "      <td>0.012640</td>\n",
       "      <td>6024.970215</td>\n",
       "      <td>1</td>\n",
       "    </tr>\n",
       "    <tr>\n",
       "      <th>2024-12-26</th>\n",
       "      <td>6037.589844</td>\n",
       "      <td>6049.750000</td>\n",
       "      <td>6007.370117</td>\n",
       "      <td>6024.970215</td>\n",
       "      <td>2904530000</td>\n",
       "      <td>NaN</td>\n",
       "      <td>0.006741</td>\n",
       "      <td>5972.108538</td>\n",
       "      <td>6026.321847</td>\n",
       "      <td>0.013064</td>\n",
       "      <td>6006.169922</td>\n",
       "      <td>0</td>\n",
       "    </tr>\n",
       "    <tr>\n",
       "      <th>2024-12-27</th>\n",
       "      <td>5970.839844</td>\n",
       "      <td>6006.169922</td>\n",
       "      <td>5932.950195</td>\n",
       "      <td>6006.169922</td>\n",
       "      <td>3159610000</td>\n",
       "      <td>NaN</td>\n",
       "      <td>-0.003120</td>\n",
       "      <td>5965.482840</td>\n",
       "      <td>6026.614235</td>\n",
       "      <td>0.013090</td>\n",
       "      <td>5920.669922</td>\n",
       "      <td>0</td>\n",
       "    </tr>\n",
       "    <tr>\n",
       "      <th>2024-12-30</th>\n",
       "      <td>5906.939941</td>\n",
       "      <td>5940.790039</td>\n",
       "      <td>5869.160156</td>\n",
       "      <td>5920.669922</td>\n",
       "      <td>3433250000</td>\n",
       "      <td>NaN</td>\n",
       "      <td>-0.014235</td>\n",
       "      <td>5947.342843</td>\n",
       "      <td>6022.164714</td>\n",
       "      <td>0.014004</td>\n",
       "      <td>NaN</td>\n",
       "      <td>0</td>\n",
       "    </tr>\n",
       "  </tbody>\n",
       "</table>\n",
       "</div>"
      ],
      "text/plain": [
       "                   Open         High          Low        Close   Adj Close  \\\n",
       "Date                                                                         \n",
       "2024-12-23  5974.069824  5978.250000  5902.569824  5940.250000  3593280000   \n",
       "2024-12-24  6040.040039  6040.100098  5981.439941  5984.629883  1757720000   \n",
       "2024-12-26  6037.589844  6049.750000  6007.370117  6024.970215  2904530000   \n",
       "2024-12-27  5970.839844  6006.169922  5932.950195  6006.169922  3159610000   \n",
       "2024-12-30  5906.939941  5940.790039  5869.160156  5920.669922  3433250000   \n",
       "\n",
       "            Volume    return          ma7         ma21  volatility_7  \\\n",
       "Date                                                                   \n",
       "2024-12-23     NaN  0.016818  5989.588518  6022.847540      0.011980   \n",
       "2024-12-24     NaN  0.007471  5977.654227  6024.765160      0.012640   \n",
       "2024-12-26     NaN  0.006741  5972.108538  6026.321847      0.013064   \n",
       "2024-12-27     NaN -0.003120  5965.482840  6026.614235      0.013090   \n",
       "2024-12-30     NaN -0.014235  5947.342843  6022.164714      0.014004   \n",
       "\n",
       "                 target  target_up  \n",
       "Date                                \n",
       "2024-12-23  5984.629883          1  \n",
       "2024-12-24  6024.970215          1  \n",
       "2024-12-26  6006.169922          0  \n",
       "2024-12-27  5920.669922          0  \n",
       "2024-12-30          NaN          0  "
      ]
     },
     "execution_count": 8,
     "metadata": {},
     "output_type": "execute_result"
    }
   ],
   "source": [
    "# Show the new features\n",
    "df.tail()"
   ]
  }
 ],
 "metadata": {
  "kernelspec": {
   "display_name": "env (3.12.3)",
   "language": "python",
   "name": "python3"
  },
  "language_info": {
   "codemirror_mode": {
    "name": "ipython",
    "version": 3
   },
   "file_extension": ".py",
   "mimetype": "text/x-python",
   "name": "python",
   "nbconvert_exporter": "python",
   "pygments_lexer": "ipython3",
   "version": "3.12.3"
  }
 },
 "nbformat": 4,
 "nbformat_minor": 5
}
